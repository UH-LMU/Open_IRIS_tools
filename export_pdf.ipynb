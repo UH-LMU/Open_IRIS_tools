{
 "cells": [
  {
   "cell_type": "code",
   "execution_count": 1,
   "metadata": {
    "collapsed": true
   },
   "outputs": [],
   "source": [
    "import pandas as pd\n",
    "from pathlib import Path\n",
    "\n",
    "PROVIDER = 'Light Microscopy Unit'\n",
    "INVOICE_DIR = '.\\data'\n",
    "\n",
    "INVOICE_DIR = Path(INVOICE_DIR)\n",
    "if not INVOICE_DIR.is_dir():\n",
    "    raise ValueError('Please check INVOICE_DIR.')\n",
    "\n",
    "ERITTELYT = INVOICE_DIR / 'erittelyt'\n",
    "if not ERITTELYT.is_dir():\n",
    "    raise ValueError('Please run split_per_wbs.ipynb first.')\n",
    "\n",
    "(ERITTELYT / 'pdf') .mkdir(exist_ok=True)\n"
   ]
  },
  {
   "cell_type": "code",
   "execution_count": 2,
   "metadata": {
    "collapsed": true
   },
   "outputs": [],
   "source": [
    "import win32api\n",
    "from win32com import client\n",
    "\n",
    "def export_pdf(app, input_file, output_file):\n",
    "    workbook = app.Workbooks.Open(input_file, ReadOnly=1)\n",
    "    worksheet = workbook.ActiveSheet\n",
    "    try:\n",
    "        worksheet.PageSetup.Orientation = 2\n",
    "        worksheet.PageSetup.FitToPagesWide = 1\n",
    "        worksheet.PageSetup.PaperSize = 8\n",
    "        worksheet.PageSetup.Zoom = False\n",
    "        worksheet.ExportAsFixedFormat(0, output_file)\n",
    "    except Exception as e:\n",
    "        print(\"Failed to convert in PDF format.Please confirm environment meets all the requirements  and try again\")\n",
    "        print(str(e))\n",
    "    finally:\n",
    "        workbook.Close(False)\n",
    "\n",
    "app = client.DispatchEx(\"Excel.Application\")\n",
    "app.Interactive = False\n",
    "app.Visible = False\n",
    "        \n",
    "for xlsx in ERITTELYT.glob('*.xlsx'):\n",
    "    pdf = ERITTELYT / 'pdf' / (xlsx.stem + '.pdf')\n",
    "    \n",
    "    xlsx = str(xlsx.absolute())\n",
    "    pdf = str(pdf.absolute())\n",
    "    #print(xlsx)\n",
    "    #print(pdf)\n",
    "\n",
    "    export_pdf(app, xlsx, pdf)\n",
    "    #break\n",
    "    \n",
    "app.Quit()\n",
    "app = None"
   ]
  },
  {
   "cell_type": "code",
   "execution_count": null,
   "metadata": {
    "collapsed": true
   },
   "outputs": [],
   "source": []
  }
 ],
 "metadata": {
  "kernelspec": {
   "display_name": "Python 3",
   "language": "python",
   "name": "python3"
  },
  "language_info": {
   "codemirror_mode": {
    "name": "ipython",
    "version": 3
   },
   "file_extension": ".py",
   "mimetype": "text/x-python",
   "name": "python",
   "nbconvert_exporter": "python",
   "pygments_lexer": "ipython3",
   "version": "3.6.3"
  }
 },
 "nbformat": 4,
 "nbformat_minor": 2
}
