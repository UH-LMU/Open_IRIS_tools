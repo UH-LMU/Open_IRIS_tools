{
 "cells": [
  {
   "cell_type": "code",
   "execution_count": 1,
   "metadata": {},
   "outputs": [],
   "source": [
    "import pandas as pd\n",
    "\n",
    "df = pd.read_csv('bookings20191113.csv', na_values='', skiprows=1)\n",
    "#df.head()\n",
    "\n",
    "# convert the 'Date' column to datetime format \n",
    "df['Start']= pd.to_datetime(df['Start']) \n",
    "df['End']= pd.to_datetime(df['End']) \n",
    "df['Duration'] = df['End'] - df['Start']\n",
    "\n",
    "df['DurationH'] = df.apply(lambda row: row.Duration.total_seconds() / 3600, axis=1)\n",
    "df['DurationH'] = df['DurationH'].round(decimals=1)\n",
    "# Check the format of 'Date' column \n",
    "\n",
    "\n",
    "# https://stackoverflow.com/questions/35321812/move-column-in-pandas-dataframe/35322540\n",
    "from pandas import DataFrame\n",
    "\n",
    "def move_columns(df: DataFrame, cols_to_move: list, new_index: int) -> DataFrame:\n",
    "    \"\"\"\n",
    "    This method re-arranges the columns in a dataframe to place the desired columns at the desired index.\n",
    "    ex Usage: df = move_columns(df, ['Rev'], 2)   \n",
    "    :param df:\n",
    "    :param cols_to_move: The names of the columns to move. They must be a list\n",
    "    :param new_index: The 0-based location to place the columns.\n",
    "    :return: Return a dataframe with the columns re-arranged\n",
    "    \"\"\"\n",
    "    other = [c for c in df if c not in cols_to_move]\n",
    "    start = other[0:new_index]\n",
    "    end = other[new_index:]\n",
    "    return df[start + cols_to_move + end]\n",
    "\n",
    "df = move_columns(df,['DurationH'], 4)\n",
    "\n",
    "#df.info() \n",
    "#df.head()"
   ]
  },
  {
   "cell_type": "code",
   "execution_count": 2,
   "metadata": {},
   "outputs": [
    {
     "name": "stdout",
     "output_type": "stream",
     "text": [
      "['3I Marianas no lasers ']\n"
     ]
    }
   ],
   "source": [
    "# check which 3I entries have price info\n",
    "tmp = df[df.Resource.str.startswith(\"3I Marianas\") & (~df.Charges.isnull()) ]\n",
    "print(tmp[\"Resource\"].unique())"
   ]
  },
  {
   "cell_type": "code",
   "execution_count": 3,
   "metadata": {},
   "outputs": [
    {
     "data": {
      "text/html": [
       "<div>\n",
       "<style scoped>\n",
       "    .dataframe tbody tr th:only-of-type {\n",
       "        vertical-align: middle;\n",
       "    }\n",
       "\n",
       "    .dataframe tbody tr th {\n",
       "        vertical-align: top;\n",
       "    }\n",
       "\n",
       "    .dataframe thead th {\n",
       "        text-align: right;\n",
       "    }\n",
       "</style>\n",
       "<table border=\"1\" class=\"dataframe\">\n",
       "  <thead>\n",
       "    <tr style=\"text-align: right;\">\n",
       "      <th></th>\n",
       "      <th>Date of booking</th>\n",
       "      <th>Start</th>\n",
       "      <th>End</th>\n",
       "      <th>Duration</th>\n",
       "      <th>DurationH</th>\n",
       "      <th>Resource</th>\n",
       "      <th>Type</th>\n",
       "      <th>Provider</th>\n",
       "      <th>Title</th>\n",
       "      <th>Comments</th>\n",
       "      <th>...</th>\n",
       "      <th>Cost center</th>\n",
       "      <th>Request ID</th>\n",
       "      <th>Operator</th>\n",
       "      <th>Products</th>\n",
       "      <th>Label</th>\n",
       "      <th>Setup</th>\n",
       "      <th>BookedBy</th>\n",
       "      <th>Project</th>\n",
       "      <th>Form</th>\n",
       "      <th>Form (JSON)</th>\n",
       "    </tr>\n",
       "  </thead>\n",
       "  <tbody>\n",
       "  </tbody>\n",
       "</table>\n",
       "<p>0 rows × 25 columns</p>\n",
       "</div>"
      ],
      "text/plain": [
       "Empty DataFrame\n",
       "Columns: [Date of booking, Start, End, Duration, DurationH, Resource, Type, Provider, Title, Comments, User, Group, Organization, Status, Charges, Cost center, Request ID, Operator, Products, Label, Setup, BookedBy, Project, Form, Form (JSON)]\n",
       "Index: []\n",
       "\n",
       "[0 rows x 25 columns]"
      ]
     },
     "execution_count": 3,
     "metadata": {},
     "output_type": "execute_result"
    }
   ],
   "source": [
    "# find bookings that are longer than 1 day\n",
    "day = pd.Timedelta(\"1 day\")\n",
    "df[df[\"Duration\"] > day]"
   ]
  },
  {
   "cell_type": "code",
   "execution_count": 4,
   "metadata": {},
   "outputs": [],
   "source": [
    "addons = [ \\\n",
    "          #\"3I Marianas base with lasers\", \"3I Marianas no lasers \", \n",
    "          \"3I Marianas\", \\\n",
    "          \"3I 405\", \"3I 488\", \"3I 561\", \"3I 640\", \"3I marianas no laser add-on\",\"3I marianas no lasers\", \\\n",
    "          \"Zeiss Z.1 LightSheet Lasers\", \"Light sheet 405\", \"Light sheet 445\", \"Light sheet 488\", \"Light sheet 514\", \"Light sheet 561\", \"Light sheet 640\", \"Light sheet no laser add on\", \"Zeiss Z.1 LightSheet Data management\", \\\n",
    "          \"LSM700 405\", \"LSM700 488\",\"LSM700 555\",\"LSM700 639\", \\\n",
    "          \"SP5 HCS-A 405\", \"SP5 HCS-A Argon\",\"SP5 HCS-A 561\",\"SP5 HCS-A 633\", \\\n",
    "          \"SP5 MP 405\", \"SP5 MP Argon\", \"SP5 MP 561\", \"SP5 MP 594\", \"SP5 MP 633\", \"SP5 MP Laser MP\", \\\n",
    "          \"SP8  STED 592 STED\", \"SP8 STED 405\", \"SP8 STED Argon\",\"SP8 STED 561\",\"SP8 STED 633\", \\\n",
    "          \"SP8 upright 405\", \"SP8 upright 488 \", \"SP8 upright 552\", \"SP8 upright 638\", \\\n",
    "          \"No laser (admin only)\", \\\n",
    "          \"Sheep (TESTING AND DEVELOPMENT PURPOSE\", \"Super testers practice instrument\"]\n",
    "\n",
    "ignore_groups = [\"Group Raimi research inc\", \"TEST Viktor\"]\n",
    "ignore_statuses = [\"Canceled\", \"Upcoming\", \"Undefined\"]\n",
    "\n",
    "#print(addons)\n",
    "\n",
    "# remove lines where resource is an add-on\n",
    "df = df[~df['Resource'].isin(addons)]\n",
    "\n",
    "# remove lines with booking status that should be ignored\n",
    "df = df[~df['Status'].isin(ignore_statuses)]\n",
    "\n",
    "df = df[~df['Group'].isin(ignore_groups)]\n",
    "\n",
    "df = df[~df['BookedBy'].isin(['iris@science-it.ch'])]\n",
    "\n",
    "# drop timedelta column\n",
    "df = df.drop(columns=['Duration'])\n",
    "\n",
    "# rename hours column\n",
    "df = df.rename(columns={\"DurationH\": \"Duration\"})\n",
    "\n",
    "# save maintenance bookings\n",
    "df2 = df[df['Type'].str.contains(\"Maintenance\")]\n",
    "\n",
    "# remove maintenance bookings from original\n",
    "df = df[~df['Type'].str.contains(\"Maintenance\")]\n"
   ]
  },
  {
   "cell_type": "code",
   "execution_count": 5,
   "metadata": {},
   "outputs": [],
   "source": [
    "# save as CSV\n",
    "\n",
    "df.to_csv('bookings2019-edited.csv', index=False, na_rep='')\n",
    "df2.to_csv('bookings2019-maintenance.csv', index=False, na_rep='')\n"
   ]
  },
  {
   "cell_type": "code",
   "execution_count": 6,
   "metadata": {},
   "outputs": [
    {
     "name": "stdout",
     "output_type": "stream",
     "text": [
      "['3D Workstation', '3I Marianas no lasers ', 'Aurox Clarity', 'HELMI 3D VM', 'LS Workstation', 'Leica SP8 STED', 'Leica SP8 upright', 'MolecularDevices Nano', 'SP8 upright 488', 'Zeiss LSM700']\n",
      "['Elapsed']\n"
     ]
    }
   ],
   "source": [
    "print(sorted(df.Resource.unique()))\n",
    "print(sorted(df.Status.unique()))"
   ]
  },
  {
   "cell_type": "code",
   "execution_count": 7,
   "metadata": {},
   "outputs": [],
   "source": [
    "# calculate group totals\n",
    "\n",
    "df2 = df.groupby([\"Group\"]).sum()\n",
    "df2['Duration'] = df2['Duration'].round(decimals=0)\n",
    "df2.index.names = ['IRIS group']\n",
    "df2 = df2.rename(columns={\"Duration\": \"IRIS total hours\"})\n",
    "df2 = df2.drop(columns=['Request ID','Operator','Products', 'Project'])\n",
    "#df2.info()\n",
    "df2.to_csv('bookings2019-group-totals.csv', index=True, na_rep='')\n",
    "\n",
    "\n",
    "#df3 = pd.DataFrame()\n",
    "#df3['IRIS_group'] = sorted(df.Group.unique())\n",
    "#df3['IRIS_total_hours'] = df3.apply(lambda row: row.IRIS_group, axis=1)\n"
   ]
  },
  {
   "cell_type": "code",
   "execution_count": 8,
   "metadata": {},
   "outputs": [
    {
     "data": {
      "text/html": [
       "<div>\n",
       "<style scoped>\n",
       "    .dataframe tbody tr th:only-of-type {\n",
       "        vertical-align: middle;\n",
       "    }\n",
       "\n",
       "    .dataframe tbody tr th {\n",
       "        vertical-align: top;\n",
       "    }\n",
       "\n",
       "    .dataframe thead th {\n",
       "        text-align: right;\n",
       "    }\n",
       "</style>\n",
       "<table border=\"1\" class=\"dataframe\">\n",
       "  <thead>\n",
       "    <tr style=\"text-align: right;\">\n",
       "      <th></th>\n",
       "      <th>Date of booking</th>\n",
       "      <th>Start</th>\n",
       "      <th>End</th>\n",
       "      <th>Duration</th>\n",
       "      <th>Resource</th>\n",
       "      <th>Type</th>\n",
       "      <th>Provider</th>\n",
       "      <th>Title</th>\n",
       "      <th>Comments</th>\n",
       "      <th>User</th>\n",
       "      <th>...</th>\n",
       "      <th>Cost center</th>\n",
       "      <th>Request ID</th>\n",
       "      <th>Operator</th>\n",
       "      <th>Products</th>\n",
       "      <th>Label</th>\n",
       "      <th>Setup</th>\n",
       "      <th>BookedBy</th>\n",
       "      <th>Project</th>\n",
       "      <th>Form</th>\n",
       "      <th>Form (JSON)</th>\n",
       "    </tr>\n",
       "  </thead>\n",
       "  <tbody>\n",
       "  </tbody>\n",
       "</table>\n",
       "<p>0 rows × 24 columns</p>\n",
       "</div>"
      ],
      "text/plain": [
       "Empty DataFrame\n",
       "Columns: [Date of booking, Start, End, Duration, Resource, Type, Provider, Title, Comments, User, Group, Organization, Status, Charges, Cost center, Request ID, Operator, Products, Label, Setup, BookedBy, Project, Form, Form (JSON)]\n",
       "Index: []\n",
       "\n",
       "[0 rows x 24 columns]"
      ]
     },
     "execution_count": 8,
     "metadata": {},
     "output_type": "execute_result"
    }
   ],
   "source": [
    "# find bookings with no WBS\n",
    "\n",
    "lmu_staff = [\"Harri.Jaalinoja@helsinki.fi\", \"marko.crivaro@helsinki.fi\", \"kimmo.tanhuanpaa@helsinki.fi\", \"mika.molin@helsinki.fi\", \"viktor.raimi@helsinki.fi\"]\n",
    "previous_billing_date = '2019-5-23'\n",
    "\n",
    "df[df[\"Cost center\"].isnull() & ((df.Start > previous_billing_date))]\n"
   ]
  },
  {
   "cell_type": "code",
   "execution_count": null,
   "metadata": {},
   "outputs": [],
   "source": []
  }
 ],
 "metadata": {
  "kernelspec": {
   "display_name": "Python 3",
   "language": "python",
   "name": "python3"
  },
  "language_info": {
   "codemirror_mode": {
    "name": "ipython",
    "version": 3
   },
   "file_extension": ".py",
   "mimetype": "text/x-python",
   "name": "python",
   "nbconvert_exporter": "python",
   "pygments_lexer": "ipython3",
   "version": "3.7.6"
  }
 },
 "nbformat": 4,
 "nbformat_minor": 2
}
