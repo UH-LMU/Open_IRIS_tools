{
 "cells": [
  {
   "cell_type": "code",
   "execution_count": null,
   "metadata": {
    "collapsed": true
   },
   "outputs": [],
   "source": [
    "import pandas as pd\n",
    "from pathlib import Path\n",
    "\n",
    "PROVIDER = 'Light Microscopy Unit'\n",
    "INVOICE_DIR = '.\\data'\n",
    "\n",
    "INVOICE_DIR = Path(INVOICE_DIR)\n",
    "if not INVOICE_DIR.is_dir():\n",
    "    raise ValueError('Please check INVOICE_DIR.')\n",
    "\n",
    "ERITTELYT = INVOICE_DIR / 'erittelyt' / 'test'\n",
    "if not ERITTELYT.is_dir():\n",
    "    raise ValueError('Please run split_per_wbs.ipynb first.')\n"
   ]
  },
  {
   "cell_type": "code",
   "execution_count": null,
   "metadata": {},
   "outputs": [],
   "source": [
    "from openpyxl import load_workbook\n",
    "import win32com.client as win32\n",
    "\n",
    "outlook = win32.Dispatch('outlook.application')\n",
    "\n",
    "def send_xlsx(to, subject, body, attachment):\n",
    "    mail = outlook.CreateItem(0)\n",
    "    mail.To = to\n",
    "    mail.Subject = subject\n",
    "    mail.Body = body\n",
    "    mail.Attachments.Add(attachment)\n",
    "\n",
    "    mail.Send()\n",
    "\n",
    "def read_xlsx(path):\n",
    "    wb = load_workbook(path)\n",
    "    ws = wb.active\n",
    "    provider = ws['C1'].value\n",
    "    interval = ws['D3'].value\n",
    "    pi_email = ws['D5'].value\n",
    "    \n",
    "    return (provider, interval, pi_email)\n",
    "    \n",
    "for xlsx in ERITTELYT.glob('*.xlsx'):\n",
    "    xlsx = str(xlsx.absolute())\n",
    "    print(xlsx)\n",
    "    \n",
    "    (provider, interval, pi_email) = read_xlsx(xlsx)\n",
    "    \n",
    "    subject = provider + \" invoice \" + interval\n",
    "    body = \"Please find attached \" + provider + \" invoice for period \" + interval + \".\"\n",
    "    \n",
    "    print(pi_email)\n",
    "    print(subject)\n",
    "    send_xlsx(pi_email, subject, body, xlsx)\n",
    "    \n",
    "    \n",
    "outlook.Quit()\n",
    "outlook = None"
   ]
  },
  {
   "cell_type": "code",
   "execution_count": null,
   "metadata": {
    "collapsed": true
   },
   "outputs": [],
   "source": []
  }
 ],
 "metadata": {
  "kernelspec": {
   "display_name": "Python 3",
   "language": "python",
   "name": "python3"
  },
  "language_info": {
   "codemirror_mode": {
    "name": "ipython",
    "version": 3
   },
   "file_extension": ".py",
   "mimetype": "text/x-python",
   "name": "python",
   "nbconvert_exporter": "python",
   "pygments_lexer": "ipython3",
   "version": "3.6.3"
  }
 },
 "nbformat": 4,
 "nbformat_minor": 2
}
