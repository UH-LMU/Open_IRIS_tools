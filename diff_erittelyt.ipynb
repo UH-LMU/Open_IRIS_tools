{
 "cells": [
  {
   "cell_type": "code",
   "execution_count": null,
   "metadata": {},
   "outputs": [],
   "source": [
    "import pandas as pd\n",
    "from pathlib import Path\n",
    "\n",
    "# invoice attachments that were already sent\n",
    "ERITTELYT1 = '/work/data/Laskutuksen tilastointia/laskutus/laskutus 201125/erittelyt'\n",
    "# invoice attachments we want to compare the sent ones with\n",
    "ERITTELYT2 = '/work/data/OpenIRIS/LMU-20210112/erittelyt'\n",
    "# store difference here\n",
    "ERITTELYT_DIFF = '/work/data/OpenIRIS/LMU-20210112/erittelyt_diff'\n",
    "\n",
    "ERITTELYT1 = Path(ERITTELYT1)\n",
    "if not ERITTELYT1.is_dir():\n",
    "    raise ValueError('Please check ERITTELYT1.')\n",
    "    \n",
    "ERITTELYT2 = Path(ERITTELYT2)\n",
    "if not ERITTELYT2.is_dir():\n",
    "    raise ValueError('Please check ERITTELYT_DIFF.')\n",
    "\n",
    "ERITTELYT_DIFF = Path(ERITTELYT_DIFF)\n",
    "ERITTELYT_DIFF.mkdir(exist_ok=True)\n"
   ]
  },
  {
   "cell_type": "code",
   "execution_count": null,
   "metadata": {},
   "outputs": [],
   "source": [
    "def create_diff(df1, df2):\n",
    "    diff = df1.merge(df2, on=['Resource/Product','Booking start'], how='outer', suffixes=['_',''], indicator=True)\n",
    "    \n",
    "    # lines that appear in both dataframes are not interesting\n",
    "    #diff = diff[diff['_merge']!='both']\n",
    "    \n",
    "    # lines that appear only in df1 are a problem (we expect df2 to have all lines)\n",
    "    left_only = diff[diff['_merge']=='left_only']\n",
    "    \n",
    "    # lines that appear only in df2 are the expected missing lines\n",
    "    right_only = diff[diff['_merge']=='right_only']\n",
    "    # drop extra columns\n",
    "    cols = [c for c in df2.columns if c[-1] != '_']\n",
    "    right_only = right_only[cols]\n",
    "    \n",
    "    return (left_only,right_only)\n",
    "    \n"
   ]
  },
  {
   "cell_type": "code",
   "execution_count": null,
   "metadata": {},
   "outputs": [],
   "source": [
    "diffs = []\n",
    "for f in ERITTELYT1.glob(\"*.xlsx\"):\n",
    "    df1 = pd.read_excel(f, skiprows=13)\n",
    "    try:\n",
    "        df2 = pd.read_excel(ERITTELYT2 / f.name, skiprows=13)\n",
    "    except:\n",
    "        print(\"WARNING: file \" + str(ERITTELYT2 / f.name) + \" not found.\")\n",
    "        \n",
    "    (left_only, right_only) = create_diff(df1,df2)\n",
    "    if left_only.shape[0] > 0:\n",
    "        print('WARNING: file ' + str(ERITTELYT2 / f.name) +  ' (df2) is missing ' + str(left_only.shape[0]) + ' lines.')\n",
    "        print(left_only[['Booking start','Resource/Product','User name_']])\n",
    "        \n",
    "    # save diff as .xlsx\n",
    "    if right_only.shape[0] > 0:\n",
    "        right_only.to_excel(ERITTELYT_DIFF / f.name, index=False)\n",
    "    \n",
    "    diffs.append(right_only)\n",
    "    \n",
    "total_diff = pd.concat(diffs)\n",
    "print(total_diff.shape)\n",
    "print(total_diff.Charge.sum())\n"
   ]
  },
  {
   "cell_type": "code",
   "execution_count": null,
   "metadata": {},
   "outputs": [],
   "source": [
    "right_only.head()"
   ]
  },
  {
   "cell_type": "code",
   "execution_count": null,
   "metadata": {},
   "outputs": [],
   "source": [
    "left_only.head()"
   ]
  },
  {
   "cell_type": "code",
   "execution_count": null,
   "metadata": {},
   "outputs": [],
   "source": []
  }
 ],
 "metadata": {
  "kernelspec": {
   "display_name": "Python 3",
   "language": "python",
   "name": "python3"
  },
  "language_info": {
   "codemirror_mode": {
    "name": "ipython",
    "version": 3
   },
   "file_extension": ".py",
   "mimetype": "text/x-python",
   "name": "python",
   "nbconvert_exporter": "python",
   "pygments_lexer": "ipython3",
   "version": "3.7.6"
  }
 },
 "nbformat": 4,
 "nbformat_minor": 4
}
