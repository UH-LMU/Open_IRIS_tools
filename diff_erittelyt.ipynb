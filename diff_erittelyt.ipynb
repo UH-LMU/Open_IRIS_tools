{
 "cells": [
  {
   "cell_type": "code",
   "execution_count": null,
   "metadata": {},
   "outputs": [],
   "source": [
    "import pandas as pd\n",
    "from pathlib import Path\n",
    "\n",
    "# invoice attachments that were already sent\n",
    "ERITTELYT1 = '/work/data/Laskutuksen tilastointia/laskutus/laskutus 201125/erittelyt'\n",
    "# invoice attachments we want to compare the sent ones with\n",
    "ERITTELYT2 = '/work/data/OpenIRIS/LMU-20210113/erittelyt'\n",
    "# store difference here\n",
    "ERITTELYT_DIFF = ERITTELYT2 + '_diff'\n",
    "# prepend diff to these attachements (next billing cycle)\n",
    "ERITTELYT3 = '/work/data/OpenIRIS/LMU-20210113/erittelyt'\n",
    "ERITTELYT_DIFF_ADDED = ERITTELYT3 + '_diff_added'\n",
    "\n",
    "ERITTELYT1 = Path(ERITTELYT1)\n",
    "if not ERITTELYT1.is_dir():\n",
    "    raise ValueError('Please check ERITTELYT1.')\n",
    "ERITTELYT2 = Path(ERITTELYT2)\n",
    "if not ERITTELYT2.is_dir():\n",
    "    raise ValueError('Please check ERITTELYT2.')\n",
    "ERITTELYT3 = Path(ERITTELYT3)\n",
    "if not ERITTELYT3.is_dir():\n",
    "    raise ValueError('Please check ERITTELYT3.')\n",
    "\n",
    "ERITTELYT_DIFF = Path(ERITTELYT_DIFF)\n",
    "ERITTELYT_DIFF.mkdir(exist_ok=True)\n",
    "ERITTELYT_DIFF_ADDED = Path(ERITTELYT_DIFF_ADDED)\n",
    "ERITTELYT_DIFF_ADDED.mkdir(exist_ok=True)"
   ]
  },
  {
   "cell_type": "code",
   "execution_count": null,
   "metadata": {},
   "outputs": [],
   "source": [
    "def create_diff(df1, df2):\n",
    "    diff = df1.merge(df2, on=['Resource/Product','Booking start'], how='outer', suffixes=['_',''], indicator=True)\n",
    "    \n",
    "    # lines that appear in both dataframes are not interesting\n",
    "    #diff = diff[diff['_merge']!='both']\n",
    "    \n",
    "    # lines that appear only in df1 are a problem (we expect df2 to have all lines)\n",
    "    left_only = diff[diff['_merge']=='left_only']\n",
    "    \n",
    "    # lines that appear only in df2 are the expected missing lines\n",
    "    right_only = diff[diff['_merge']=='right_only']\n",
    "    # drop extra columns\n",
    "    cols = [c for c in df2.columns if c[-1] != '_']\n",
    "    right_only = right_only[cols]\n",
    "    \n",
    "    return (left_only,right_only)\n",
    "    "
   ]
  },
  {
   "cell_type": "code",
   "execution_count": null,
   "metadata": {},
   "outputs": [],
   "source": [
    "origs = []\n",
    "comps = []\n",
    "diffs = []\n",
    "lefts = []\n",
    "totals = []\n",
    "for f in ERITTELYT1.glob(\"*.xlsx\"):\n",
    "    print(str(f))\n",
    "    \n",
    "    summary = pd.read_excel(f, nrows=10)\n",
    "    summary_total = summary['Unnamed: 3'][9]\n",
    "    \n",
    "    df1 = pd.read_excel(f, skiprows=13)\n",
    "        \n",
    "    # initialize df2 with empty dataframe. without this, if file is not found in erittelyt2, invoices with diffent wbs will be compared.\n",
    "    df2 = pd.DataFrame(columns=['Booking start','Resource/Product','User name'])\n",
    "    try:\n",
    "        df2 = pd.read_excel(ERITTELYT2 / f.name, skiprows=13)\n",
    "    except:\n",
    "        print(\"WARNING: file \" + str(ERITTELYT2 / f.name) + \" not found.\")\n",
    "  \n",
    "    # remove lines without resource name to get rid of the charge sum field\n",
    "    total = df1[df1['Resource/Product'].isnull()]\n",
    "    df1 = df1[~df1['Resource/Product'].isnull()]\n",
    "    df2 = df2[~df2['Resource/Product'].isnull()]\n",
    "    \n",
    "    # compare summary total with charge column sum\n",
    "    charge_total = df1.Charge.sum()\n",
    "    #if charge_total != summary_total:\n",
    "    if abs(charge_total - summary_total) > 0.5:\n",
    "        print('INFO: summary total %d does not match charge column sum %d' % (summary_total, charge_total))\n",
    "\n",
    "    (left_only, right_only) = create_diff(df1,df2)\n",
    "    if left_only.shape[0] > 0:\n",
    "        print('WARNING: file ' + str(f) +  ' contains ' + str(left_only.shape[0]) + ' lines missing in df2.')\n",
    "        print(left_only[['Booking start','Resource/Product','User name_']])\n",
    "        \n",
    "    # save diff as .xlsx\n",
    "    if right_only.shape[0] > 0:\n",
    "        print('INFO: Saving diff (' + str(right_only.shape[0]) + ' lines) in ' + str(ERITTELYT_DIFF / f.name))\n",
    "        right_only.to_excel(ERITTELYT_DIFF / f.name, index=False)\n",
    "    \n",
    "    origs.append(df1)\n",
    "    comps.append(df2)\n",
    "    diffs.append(right_only)\n",
    "    lefts.append(left_only)\n",
    "    totals.append(total)\n",
    "    \n",
    "total_orig = pd.concat(origs)\n",
    "total_orig.to_excel(ERITTELYT_DIFF / 'total_original_files.xlsx', index=False)\n",
    "total_comp = pd.concat(comps)\n",
    "total_comp.to_excel(ERITTELYT_DIFF / 'total_compared_files.xlsx', index=False)\n",
    "total_diff = pd.concat(diffs)\n",
    "total_diff.to_excel(ERITTELYT_DIFF / 'total_only_in_compared_files.xlsx', index=False)\n",
    "total_left = pd.concat(lefts)\n",
    "total_left.to_excel(ERITTELYT_DIFF / 'total_only_in_original_files.xlsx', index=False)\n",
    "total_totals = pd.concat(totals)\n",
    "total_totals.to_excel(ERITTELYT_DIFF / 'total_charge_sum_lines_in_original_files.xlsx', index=False)\n",
    "\n",
    "print()\n",
    "print('Original total (invoiced):')\n",
    "print(str(total_orig.shape[0]) + ' lines')\n",
    "print(str(total_orig.Charge.sum()) + ' EUR')\n",
    "print()\n",
    "print('Original compared files:')\n",
    "print(str(total_comp.shape[0]) + ' lines')\n",
    "print(str(total_comp.Charge.sum()) + ' EUR')\n",
    "print()\n",
    "print('Missing from original:')\n",
    "print(str(total_diff.shape[0]) + ' lines')\n",
    "print(str(total_diff.Charge.sum()) + ' EUR')\n",
    "print()\n",
    "print('Only in original:')\n",
    "print(str(total_left.shape[0]) + ' lines')\n",
    "print(str(total_left.Charge.sum()) + ' EUR')\n",
    "print()\n"
   ]
  },
  {
   "cell_type": "code",
   "execution_count": null,
   "metadata": {},
   "outputs": [],
   "source": [
    "ns = pd.read_excel(ERITTELYT2 / '..' / 'Invoice28_fixed_new_summary.xlsx')"
   ]
  },
  {
   "cell_type": "code",
   "execution_count": null,
   "metadata": {},
   "outputs": [],
   "source": [
    "(lo,ro) = create_diff(total_comp,ns)"
   ]
  },
  {
   "cell_type": "code",
   "execution_count": null,
   "metadata": {},
   "outputs": [],
   "source": [
    "ro"
   ]
  },
  {
   "cell_type": "code",
   "execution_count": null,
   "metadata": {},
   "outputs": [],
   "source": [
    "ro.Charge.sum()"
   ]
  },
  {
   "cell_type": "code",
   "execution_count": null,
   "metadata": {},
   "outputs": [],
   "source": [
    "total_comp.Charge.sum()"
   ]
  },
  {
   "cell_type": "code",
   "execution_count": null,
   "metadata": {},
   "outputs": [],
   "source": [
    "ro.Charge.sum() + total_comp.Charge.sum()"
   ]
  },
  {
   "cell_type": "code",
   "execution_count": null,
   "metadata": {},
   "outputs": [],
   "source": [
    "pl = pd.read_excel(ERITTELYT1 / 'Pekka Lappalainen 4705074.xlsx', nrows=10)\n",
    "pl"
   ]
  },
  {
   "cell_type": "code",
   "execution_count": null,
   "metadata": {},
   "outputs": [],
   "source": [
    "pl['Unnamed: 3'][9]"
   ]
  },
  {
   "cell_type": "code",
   "execution_count": null,
   "metadata": {},
   "outputs": [],
   "source": [
    "for f in ERITTELYT_DIFF.glob(\"*.xlsx\"):\n",
    "    print(f)\n",
    "    \n",
    "    # diffs don't have headers, so don't skip rows\n",
    "    df_diff = pd.read_excel(f)\n",
    "        \n",
    "    try:\n",
    "        df2 = pd.read_excel(ERITTELYT3 / f.name, skiprows=13)\n",
    "    except:\n",
    "        print(\"WARNING: file \" + str(ERITTELYT3 / f.name) + \" not found.\")\n",
    "        continue\n",
    "\n",
    "    df_diff_added = pd.concat([df_diff, df2])\n",
    "    df_diff_added.to_excel(ERITTELYT_DIFF_ADDED / f.name, index=False)"
   ]
  },
  {
   "cell_type": "code",
   "execution_count": null,
   "metadata": {},
   "outputs": [],
   "source": []
  }
 ],
 "metadata": {
  "kernelspec": {
   "display_name": "Python 3",
   "language": "python",
   "name": "python3"
  },
  "language_info": {
   "codemirror_mode": {
    "name": "ipython",
    "version": 3
   },
   "file_extension": ".py",
   "mimetype": "text/x-python",
   "name": "python",
   "nbconvert_exporter": "python",
   "pygments_lexer": "ipython3",
   "version": "3.7.6"
  }
 },
 "nbformat": 4,
 "nbformat_minor": 4
}
