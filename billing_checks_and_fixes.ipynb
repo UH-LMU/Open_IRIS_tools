{
 "cells": [
  {
   "cell_type": "markdown",
   "metadata": {
    "colab_type": "text",
    "id": "kBqCVIAyjZTI"
   },
   "source": [
    "# Usage on Windows\n",
    "- Install Anaconda (in Software Center on UH computers).\n",
    "- Download this notebook and the invoice from Open IRIS in a folder.\n",
    "- Start Menu -> Anaconda -> Anaconda shell.\n",
    "- In the shell: \"cd\" to the folder with the notebook, e.g. \"cd Documents\\billing_check\".\n",
    "- In the shell: \"jupyter notebook\". This chould open the notebook in a browser.\n",
    "- Change the invoice file name in the first notebook cell.\n",
    "- Cell -> Run All.\n",
    "- Wait for .xslx files to appear in the folder.\n",
    "\n"
   ]
  },
  {
   "cell_type": "markdown",
   "metadata": {
    "colab_type": "text",
    "id": "raweyeFKlGb7"
   },
   "source": [
    "# Connect to Google Drive from Colaboratory"
   ]
  },
  {
   "cell_type": "code",
   "execution_count": null,
   "metadata": {
    "colab": {},
    "colab_type": "code",
    "id": "3hh-7v7Dk_0f"
   },
   "outputs": [],
   "source": [
    "#from google.colab import drive\n",
    "#drive.mount('/content/drive')"
   ]
  },
  {
   "cell_type": "markdown",
   "metadata": {
    "colab_type": "text",
    "id": "3pJmyFKwk777"
   },
   "source": [
    "# Price list and invoice\n",
    "- set invoice file\n",
    "- set holidays"
   ]
  },
  {
   "cell_type": "code",
   "execution_count": null,
   "metadata": {
    "cellView": "form",
    "colab": {},
    "colab_type": "code",
    "id": "5xTevWuXmTRs"
   },
   "outputs": [],
   "source": [
    "# '.' works on local computer when the price list is in the notebook folder\n",
    "PRICE_LIST_DIR = '.' #@param {type:\"raw\"}\n",
    "\n",
    "# comment out price list you don't want to use\n",
    "#PRICE_LIST_FILE = 'price_list_biu.csv' #@param {type:\"raw\"}\n",
    "PRICE_LIST_FILE = 'price_list_lmu.csv' #@param {type:\"raw\"}\n",
    "\n",
    "#INVOICE_DIR = '/work/data/OpenIRIS/BIU' #@param {type:\"raw\"}\n",
    "#INVOICE_FILE = 'Invoice16.xlsx' #@param {type:\"raw\"}\n",
    "INVOICE_DIR = '/work/data/OpenIRIS/LMU-20200424' #@param {type:\"raw\"}\n",
    "INVOICE_FILE = 'Invoice24__update__fixed_Invoice24__price_type_missing.xlsx' #@param {type:\"raw\"}\n",
    "#INVOICE_FILE = 'Invoice24.xlsx' #@param {type:\"raw\"}\n",
    "\n",
    "\n",
    "from pathlib import Path\n",
    "\n",
    "PRICE_LIST_DIR = Path(PRICE_LIST_DIR)\n",
    "if not PRICE_LIST_DIR.is_dir():\n",
    "    raise ValueError('Please check PRICE_LIST_DIR.')\n",
    "PRICE_LIST_FILE = PRICE_LIST_DIR / PRICE_LIST_FILE\n",
    "if not PRICE_LIST_FILE.exists():\n",
    "    raise ValueError('Please check PRICE_LIST_FILE.')\n",
    "\n",
    "INVOICE_DIR = Path(INVOICE_DIR)\n",
    "if not INVOICE_DIR.is_dir():\n",
    "    raise ValueError('Please check INVOICE_DIR.')\n",
    "INVOICE_FILE = INVOICE_DIR / INVOICE_FILE\n",
    "if not INVOICE_FILE.exists():\n",
    "    raise ValueError('Please check INVOICE_FILE.')\n"
   ]
  },
  {
   "cell_type": "code",
   "execution_count": null,
   "metadata": {
    "colab": {},
    "colab_type": "code",
    "id": "oKjxBKUkjZTN"
   },
   "outputs": [],
   "source": [
    "from datetime import date,datetime,timedelta\n",
    "import numpy as np\n",
    "import pandas as pd\n",
    "\n",
    "# holidays during billing period (have to list manually)\n",
    "holidays = [\\\n",
    "    date(2019,12,6), \\\n",
    "    date(2019,12,24), \\\n",
    "    date(2019,12,25), \\\n",
    "    date(2019,12,26), \\\n",
    "#    date(2019,12,31), \\\n",
    "    date(2020,1,1), \\\n",
    "    date(2020,1,6) \\\n",
    "           ]\n",
    "\n",
    "basename = INVOICE_FILE.stem\n",
    "ext = INVOICE_FILE.suffix\n",
    "\n",
    "header = pd.read_excel(INVOICE_FILE, nrows=1)\n",
    "header = header[header.columns.drop(list(header.filter(regex='Unnamed')))]\n",
    "\n",
    "df = pd.read_excel(INVOICE_FILE, skiprows=[0,1])\n",
    "\n",
    "# essential columns shown in testing\n",
    "summary = ['ID','User name','Resource','Booking start','Booking end','Price','Discount', 'Quantity','Price item','Price type','Charge','Group','Cost center name','Cost center code', 'Comments (charge)','Price (detailed)']\n",
    "summary_short = ['ID','User name','Resource','Booking start','Booking end','Quantity','Charge','Discount', 'Comments (charge)','Group','Cost center name','Cost center code']\n",
    "\n",
    "# exclude IRIS test instruments\n",
    "test_instruments = ['Sheep (TESTING AND DEVELOPMENT PURPOSE', 'Super testers practice instrument']\n",
    "df = df[~df['Resource'].isin(test_instruments)]\n",
    "\n",
    "# exclude (first save) staff groups\n",
    "biu_groups = ['BIU staff']\n",
    "lmu_groups = ['Kimmo Tanhuanpää', 'LMU-staff']\n",
    "test_groups = ['Group Raimi research inc']\n",
    "df[df['Group'].isin(biu_groups)][summary].to_excel(INVOICE_DIR / (\"tmp_\" + basename + \"__BIU_bookings.xlsx\"), index=True)\n",
    "df[df['Group'].isin(lmu_groups)][summary].to_excel(INVOICE_DIR / (\"tmp_\" + basename + \"__LMU_bookings.xlsx\"), index=True)\n",
    "\n",
    "exclude_groups = []\n",
    "exclude_groups.extend(biu_groups)\n",
    "exclude_groups.extend(lmu_groups)\n",
    "exclude_groups.extend(test_groups)\n",
    "df = df[~df['Group'].isin(exclude_groups)]\n",
    "\n",
    "# store original report with essential columns\n",
    "df[summary].to_excel(INVOICE_DIR / (\"tmp_\" + basename + \"__summary\" + ext), index=True) \n"
   ]
  },
  {
   "cell_type": "code",
   "execution_count": null,
   "metadata": {
    "colab": {
     "base_uri": "https://localhost:8080/",
     "height": 115
    },
    "colab_type": "code",
    "executionInfo": {
     "elapsed": 2769,
     "status": "ok",
     "timestamp": 1586432191662,
     "user": {
      "displayName": "Harri Jäälinoja",
      "photoUrl": "",
      "userId": "10358975484852623681"
     },
     "user_tz": -180
    },
    "id": "XWceBWzcsmiG",
    "outputId": "837e23e5-4947-4dd2-9535-30938393717f"
   },
   "outputs": [],
   "source": [
    "header"
   ]
  },
  {
   "cell_type": "markdown",
   "metadata": {},
   "source": [
    "# Manual interventions\n",
    "This cell saves rows that might need manual editing and test cases that are not expected\n",
    "to be changed by the automated fixes below.\n",
    "\n",
    "You can make the manual edits in the shorter .xlsx files produced here, and then merge the changes to the original IRIS report using the notebook \"merge_reports.ipynb\"."
   ]
  },
  {
   "cell_type": "code",
   "execution_count": null,
   "metadata": {},
   "outputs": [],
   "source": [
    "PRICE_TYPE = 'Price type'\n",
    "PRIME_TIME = 'Prime-time'\n",
    "OFF_HOURS = 'Off-hours'\n",
    "NIGHT_TIME = 'Night time'\n",
    "\n",
    "def save_test_result(filename,dataframe):\n",
    "    print(filename + \" \" + str(dataframe.shape))\n",
    "    dataframe.to_excel(INVOICE_DIR / filename, index=True)\n",
    "\n",
    "# save rows with price type missing\n",
    "test = df[df[PRICE_TYPE].isnull()]\n",
    "save_test_result(\"test_\" + basename + \"__price_type_missing.xlsx\", test[summary])\n",
    "\n",
    "# group or WBS missing\n",
    "test = df[(df['Group'].isnull()) | (df['Cost center code'].isnull())][summary_short]\n",
    "save_test_result(\"test_\" + basename + '__group_or_wbs_missing.xlsx', test)\n",
    "\n",
    "# save rows with cancellations\n",
    "test = df[df['Price item'].str.contains(\"Cancellation\")]\n",
    "save_test_result(\"test_\" + basename + \"__cancellations.xlsx\", test[summary_short])\n",
    "\n",
    "# save rows with discounts\n",
    "test = df[~df['Discount'].isnull()]\n",
    "save_test_result(\"test_\" + basename + \"__discount.xlsx\", test[summary_short])\n",
    "\n"
   ]
  },
  {
   "cell_type": "markdown",
   "metadata": {},
   "source": [
    "# Read price list"
   ]
  },
  {
   "cell_type": "code",
   "execution_count": null,
   "metadata": {
    "colab": {},
    "colab_type": "code",
    "id": "mg5AIZzGjZTt"
   },
   "outputs": [],
   "source": [
    "prices = pd.read_csv(PRICE_LIST_FILE, quotechar=\"'\",)\n",
    "\n",
    "print('Price types in use:')\n",
    "print(df[PRICE_TYPE].unique())\n",
    "\n",
    "# Check that prices exist for all instruments\n",
    "for r in df['Resource'].unique():\n",
    "    for pt in df[PRICE_TYPE].unique():\n",
    "        for p in [PRIME_TIME,OFF_HOURS,NIGHT_TIME]:\n",
    "            try:\n",
    "                price = prices[(prices['Instrument'] == r) & \\\n",
    "                               (prices[PRICE_TYPE] == pt)][p].values[0]\n",
    "            except:\n",
    "                raise ValueError(\"Price missing: %s / %s / %s\" % (r,pt,p))\n"
   ]
  },
  {
   "cell_type": "code",
   "execution_count": null,
   "metadata": {
    "colab": {
     "base_uri": "https://localhost:8080/",
     "height": 206
    },
    "colab_type": "code",
    "executionInfo": {
     "elapsed": 2759,
     "status": "ok",
     "timestamp": 1586432191670,
     "user": {
      "displayName": "Harri Jäälinoja",
      "photoUrl": "",
      "userId": "10358975484852623681"
     },
     "user_tz": -180
    },
    "id": "CUIengIIjZUF",
    "outputId": "f5b67ad2-4ef2-4469-e298-4970452abdf6"
   },
   "outputs": [],
   "source": [
    "prices.head()\n"
   ]
  },
  {
   "cell_type": "markdown",
   "metadata": {
    "colab_type": "text",
    "id": "IQM9DfO1jZUV"
   },
   "source": [
    "# Functions and constants"
   ]
  },
  {
   "cell_type": "code",
   "execution_count": null,
   "metadata": {
    "colab": {},
    "colab_type": "code",
    "id": "1O9JAKyejZUX"
   },
   "outputs": [],
   "source": [
    "# read these columns as datetime\n",
    "df['Booking start'] =  pd.to_datetime(df['Booking start'], format='%Y-%m-%d %H:%M')\n",
    "df['Booking end'] =  pd.to_datetime(df['Booking end'], format='%Y-%m-%d %H:%M')\n",
    "\n",
    "# billing period\n",
    "period_start = df['Booking start'].min().date()\n",
    "period_end = df['Booking end'].max().date()\n",
    "\n",
    "# weekends during billing period\n",
    "weekends = []\n",
    "test = period_start\n",
    "while test < period_end:\n",
    "    if test.weekday() >= 5:\n",
    "        weekends.append(test)\n",
    "    test = test + timedelta(days=1)\n",
    "weekends\n",
    "\n",
    "weekends_and_holidays = sorted(weekends + holidays)\n",
    "\n",
    "instruments_with_night_discounts = prices[prices[OFF_HOURS] != prices[NIGHT_TIME]]['Instrument'].values\n",
    "instruments_with_no_discounts = prices[(prices[PRIME_TIME] == prices[OFF_HOURS]) & \\\n",
    "                                             (prices[OFF_HOURS] == prices[NIGHT_TIME])]['Instrument'].values\n",
    "#print(instruments_with_night_discounts)\n",
    "#print(instruments_with_no_discounts)\n",
    "\n",
    "\n",
    "def next_workday(dt):\n",
    "    #print(weekends_and_holidays)\n",
    "    test = dt\n",
    "    while True:\n",
    "        test = test + timedelta(days=1)\n",
    "        #print(test.date())\n",
    "        if test.date() not in weekends_and_holidays:\n",
    "            return test\n",
    "\n",
    "# get price type for a booking that has already been split\n",
    "def get_price_item(row):\n",
    "    if row['Resource'] in instruments_with_night_discounts:\n",
    "        if row['Booking start'].hour < 8 or row['Booking start'].hour >= 22:\n",
    "            return NIGHT_TIME\n",
    "        if includes_holiday_or_weekend(row) or row['Booking start'].hour == 8 or row['Booking start'].hour >= 17:\n",
    "            return OFF_HOURS\n",
    "        else:\n",
    "            return PRIME_TIME\n",
    "    else:\n",
    "        if includes_holiday_or_weekend(row) or row['Booking start'].hour < 9 or row['Booking start'].hour >= 17:\n",
    "            return OFF_HOURS\n",
    "        else:\n",
    "            return PRIME_TIME\n",
    "        \n",
    "def get_price(row):\n",
    "    #print(row[['Resource',PRICE_TYPE]])\n",
    "    #print(get_price_item(row))\n",
    "    return prices[(prices['Instrument'] == row['Resource']) & \\\n",
    "                  (prices[PRICE_TYPE] == row[PRICE_TYPE])][get_price_item(row)].values[0]\n",
    "\n",
    "def get_discount_factor(row):\n",
    "    discount = row['Discount']\n",
    "    discount = discount.replace('%','')\n",
    "    if(discount == 'nan'):\n",
    "        return 1\n",
    "    else:\n",
    "        return 1 - float(discount)/100\n",
    "\n",
    "df['Discount'] = df['Discount'].astype(str)\n",
    "df['tmp_discount_factor'] = 1\n",
    "df['tmp_discount_factor'] = df.apply(get_discount_factor, axis=1)\n",
    "\n",
    "# splits between prime and off hours (no night discount)\n",
    "def next_split_2(dt):\n",
    "    # other to prime time\n",
    "    if dt.hour >= 17:\n",
    "        nwd = next_workday(dt)\n",
    "        return datetime(nwd.year,nwd.month,nwd.day,9,0,0)\n",
    "    if dt.hour < 9:\n",
    "        if dt.date() not in weekends_and_holidays:\n",
    "            return datetime(dt.year,dt.month,dt.day,9,0,0)\n",
    "        else:\n",
    "            nwd = next_workday(dt)\n",
    "            return datetime(nwd.year,nwd.month,nwd.day,9,0,0) \n",
    "    # prime to other time\n",
    "    if dt.hour < 17:\n",
    "        if dt.date() not in weekends_and_holidays:\n",
    "            return datetime(dt.year,dt.month,dt.day,17,0,0)\n",
    "        else:\n",
    "            nwd = next_workday(dt)\n",
    "            return datetime(nwd.year,nwd.month,nwd.day,9,0,0) \n",
    "    \n",
    "# splits between prime, off and night hours \n",
    "def next_split_3(dt):\n",
    "    # night to other time\n",
    "    if dt.hour >= 22:\n",
    "        return datetime(dt.year,dt.month,dt.day,8,0,0) + timedelta(days=1)\n",
    "    if dt.hour < 8:\n",
    "        return datetime(dt.year,dt.month,dt.day,8,0,0)\n",
    "    # other to prime time (or night time during holidays)\n",
    "    if dt.hour < 9:\n",
    "        if (dt.date() in weekends_and_holidays):\n",
    "            return datetime(dt.year,dt.month,dt.day,22,0,0)\n",
    "        else:\n",
    "            return datetime(dt.year,dt.month,dt.day,9,0,0)\n",
    "    # prime to other time (or night time during holidays)\n",
    "    if dt.hour < 17:\n",
    "        if (dt.date() in weekends_and_holidays):\n",
    "            return datetime(dt.year,dt.month,dt.day,22,0,0)\n",
    "        else:\n",
    "            return datetime(dt.year,dt.month,dt.day,17,0,0)\n",
    "    # other to night time\n",
    "    if dt.hour < 22:\n",
    "        return datetime(dt.year,dt.month,dt.day,22,0,0)\n",
    "    \n",
    "# does a row need prime/off split\n",
    "def needs_split_2(row):\n",
    "    if row['Resource'] in np.append(instruments_with_night_discounts,instruments_with_no_discounts):\n",
    "        return False\n",
    "    if next_split_2(row['Booking start']) < row['Booking end']:\n",
    "        #print('start ' + str(row['Booking start']))\n",
    "        #print('next ' + str(next_split_2(row['Booking start'])))\n",
    "        #print('end ' + str(row['Booking end']))\n",
    "        #print(\"yes\")\n",
    "        return True\n",
    "    else:\n",
    "        return False\n",
    "\n",
    "# does a row need prime/off/night split\n",
    "def needs_split_3(row):\n",
    "    if not row['Resource'] in instruments_with_night_discounts:\n",
    "        return False\n",
    "    if next_split_3(row['Booking start']) < row['Booking end']:\n",
    "        #print('start ' + str(row['Booking start']))\n",
    "        #print('next ' + str(next_split_3(row['Booking start'])))\n",
    "        #print('end ' + str(row['Booking end']))\n",
    "        #print(\"yes\")\n",
    "        return True\n",
    "    else:\n",
    "        return False\n",
    "\n",
    "def night_discount_applies(row):\n",
    "    if row['Resource'] in instruments_with_night_discounts:\n",
    "        return True\n",
    "    else:\n",
    "        return False\n",
    "\n",
    "def off_hour_discount_applies(row):\n",
    "    if row['Resource'] in instruments_with_no_discounts:\n",
    "        return False\n",
    "    else:\n",
    "        return True\n",
    "    \n",
    "def is_night_1(row):\n",
    "    if not night_discount_applies(row):\n",
    "        return False\n",
    "    #print(row.head())\n",
    "    dt1 = row['Booking start']\n",
    "    dt2 = row['Booking end']\n",
    "    if dt2 > datetime(dt1.year, dt1.month, dt1.day, 22, 0, 0):\n",
    "        return True\n",
    "    else:\n",
    "        return False\n",
    "\n",
    "def is_night_2(row):\n",
    "    if not night_discount_applies(row):\n",
    "        return False\n",
    "    #print(row.head())\n",
    "    dt1 = row['Booking start']\n",
    "    dt2 = row['Booking end']\n",
    "    if (dt1.day < dt2.day) or (dt1.hour < 8):\n",
    "        return True\n",
    "    else:\n",
    "        return False\n",
    "\n",
    "def includes_holiday_or_weekend(row):\n",
    "    d1 = row['Booking start'].date()\n",
    "    d2 = row['Booking end'].date()\n",
    "\n",
    "    for dt in weekends_and_holidays:\n",
    "        if (d1 <= dt) and (d2 >= dt):\n",
    "            return True\n",
    "        \n",
    "    return False\n",
    "\n",
    "def split_3(rows):\n",
    "    _summary = ['ID','Booking start','Booking end','Price']\n",
    "\n",
    "    # make a copy, just to be sure\n",
    "    rows = rows.copy()\n",
    "    #print(\"rows:\")\n",
    "    #print(rows[_summary])\n",
    "    \n",
    "    rows['Booking start'] =  pd.to_datetime(rows['Booking start'], format='%Y-%m-%d %H:%M')\n",
    "    rows['Booking end'] =  pd.to_datetime(rows['Booking end'], format='%Y-%m-%d %H:%M')\n",
    "\n",
    "    tmp = rows.tail(1).copy()\n",
    "    #print(\"tmp:\")\n",
    "    #print(tmp[_summary])\n",
    "    tmp['Booking start'] =  pd.to_datetime(tmp['Booking start'], format='%Y-%m-%d %H:%M')\n",
    "    tmp['Booking end'] =  pd.to_datetime(tmp['Booking end'], format='%Y-%m-%d %H:%M')\n",
    "    i = tmp.index.values[0]\n",
    "    #print(i)\n",
    "    next_split = next_split_3(tmp.loc[i]['Booking start'])\n",
    "    \n",
    "    if tmp.loc[i]['Booking end'] <= next_split:\n",
    "        #print(\"return split\")\n",
    "        return rows\n",
    "    \n",
    "    else:\n",
    "        rows.at[i,'Booking end'] = next_split\n",
    "        delta = rows.loc[i]['Booking end'] - rows.loc[i]['Booking start']\n",
    "        rows.at[i,'Quantity'] = delta.seconds / 3600\n",
    "        rows.at[i,'Price item'] = get_price_item(rows.loc[i])\n",
    "        rows.at[i,'Price'] = get_price(rows.loc[i])\n",
    "        discount = rows.loc[i]['tmp_discount_factor']\n",
    "        #print(discount)\n",
    "        rows.at[i,'Charge'] = rows.at[i,'Quantity'] * rows.at[i,'Price'] * discount\n",
    "        \n",
    "        tmp.at[i,'Booking start'] = next_split\n",
    "        delta = tmp.loc[i]['Booking end'] - tmp.loc[i]['Booking start']\n",
    "        tmp.at[i,'Quantity'] = delta.seconds / 3600\n",
    "        tmp.at[i,'Price item'] = get_price_item(tmp.loc[i])\n",
    "        tmp.at[i,'Price'] = get_price(tmp.loc[i])\n",
    "        discount = tmp.loc[i]['tmp_discount_factor']\n",
    "        #print(discount)\n",
    "        tmp.at[i,'Charge'] = tmp.at[i,'Quantity'] * tmp.at[i,'Price'] * discount\n",
    "        #print(\"tmp2:\")\n",
    "        #print(tmp[summary])\n",
    "    \n",
    "        rows = rows.append(tmp)\n",
    "        rows.reset_index(inplace=True, drop=True)\n",
    "\n",
    "        return split_3(rows)\n",
    "    \n",
    "def check_totals(dataframe,tag):\n",
    "    _df = dataframe\n",
    "    #print(_df.sum(numeric_only=True, axis=0))\n",
    "    #print(_df.head()['Price'])\n",
    "    \n",
    "    _df['Charge'] = pd.to_numeric(_df['Charge'], errors='raise')\n",
    "    #_df['Charge'] = _df['Charge'].round(2)\n",
    "    \n",
    "    # ungrouped total\n",
    "    print(\"ungrouped: \" + str(_df.sum(numeric_only=True, axis=0)['Charge']))\n",
    "\n",
    "    # totals by WBS\n",
    "    tmp = _df.groupby(['Group','Cost center name'])['Charge'].sum().reset_index()\n",
    "    tmp.loc['Column_Total']= tmp.sum(numeric_only=True, axis=0)\n",
    "    tmp.to_excel(INVOICE_DIR / (\"test_ \" + basename + \"__totals_by_group_and_wbs_\" + tag + ext), index=False)\n",
    "    total_wbs = round(tmp.loc['Column_Total']['Charge'],2)\n",
    "    print(\"grouped by WBS: \" + str(total_wbs))\n",
    "\n",
    "    # totals by instrument\n",
    "    tmp = _df.groupby(['Resource'])['Charge'].sum().reset_index()\n",
    "    tmp.loc['Column_Total']= tmp.sum(numeric_only=True, axis=0)\n",
    "    tmp.to_excel(INVOICE_DIR / (\"test_ \" + basename + \"__totals_by_resource_\" + tag  + ext), index=False)\n",
    "    total_resource = round(tmp.loc['Column_Total']['Charge'],2)\n",
    "    print(\"grouped by resource: \" + str(total_resource))\n",
    "\n",
    "    if total_resource != total_wbs:\n",
    "        print(\"Totals don't match.\")\n",
    "        return \"Total don't match\"\n",
    "        \n",
    "    return total_wbs"
   ]
  },
  {
   "cell_type": "markdown",
   "metadata": {
    "colab_type": "text",
    "id": "gTuAB4_qjZUo"
   },
   "source": [
    "# Check totals before any fixes"
   ]
  },
  {
   "cell_type": "code",
   "execution_count": null,
   "metadata": {
    "colab": {
     "base_uri": "https://localhost:8080/",
     "height": 69
    },
    "colab_type": "code",
    "executionInfo": {
     "elapsed": 3428,
     "status": "ok",
     "timestamp": 1586432192351,
     "user": {
      "displayName": "Harri Jäälinoja",
      "photoUrl": "",
      "userId": "10358975484852623681"
     },
     "user_tz": -180
    },
    "id": "FWTOGtzQjZUq",
    "outputId": "d16f6319-d69b-4a44-fe8f-812d6f72d830"
   },
   "outputs": [],
   "source": [
    "check_totals(df,'before_fixes')"
   ]
  },
  {
   "cell_type": "markdown",
   "metadata": {},
   "source": [
    "# Apply price list\n",
    "Overwrite IRIS prices with the .csv price list. Recalculate charges assuming that bookings are split (apply price item based on start time). "
   ]
  },
  {
   "cell_type": "code",
   "execution_count": null,
   "metadata": {},
   "outputs": [],
   "source": [
    "# store original price and charge in a new columns\n",
    "df['tmp_price_item_iris'] = df['Price item']\n",
    "df['tmp_price_iris'] = df['Price']\n",
    "df['tmp_quantity_iris'] = df['Quantity']\n",
    "df['tmp_charge_iris'] = df['Charge']\n",
    "\n",
    "df['Price item'] = df.apply(get_price_item, axis=1)\n",
    "df['Price'] = df.apply(get_price, axis=1)\n",
    "\n",
    "## Recalculating durations and charges may be useful if merging data with manually added rows.\n",
    "\n",
    "def calculate_duration(row):\n",
    "    delta = row['Booking end'] - row['Booking start']\n",
    "    return round(delta.total_seconds() / 3600, 4)\n",
    "\n",
    "df['Quantity'] = df.apply(calculate_duration, axis=1)\n",
    "\n",
    "def calculate_charge(row):\n",
    "    return round(row['Quantity'] * row['Price'] * row['tmp_discount_factor'], 2)\n",
    "\n",
    "df['Charge'] = df.apply(calculate_charge, axis=1)\n",
    "\n",
    "\n",
    "check_totals(df,'after_recalculate_charges')\n",
    "\n",
    "# save training bookings\n",
    "cols = summary_short.copy()\n",
    "cols.append('tmp_price_item_iris')\n",
    "test = df[df['tmp_price_item_iris'].str.contains(\"Training\")]\n",
    "save_test_result(\"test_\" + basename + \"__trainings.xlsx\", test[cols])\n",
    "\n",
    "# save rows where cduration changes\n",
    "cols = summary_short.copy()\n",
    "cols.append('tmp_quantity_iris')\n",
    "test = df[df['Quantity'] != df['tmp_quantity_iris']]\n",
    "save_test_result(\"test_\" + basename + \"__duration_changed.xlsx\", test[cols])\n",
    "\n",
    "# save rows where charge changes\n",
    "cols = summary_short.copy()\n",
    "cols.append('tmp_charge_iris')\n",
    "test = df[df['Charge'] != df['tmp_charge_iris']]\n",
    "save_test_result(\"test_\" + basename + \"__charge_changed.xlsx\", test[cols])\n"
   ]
  },
  {
   "cell_type": "markdown",
   "metadata": {
    "colab_type": "text",
    "id": "ASBSO__hjZU7"
   },
   "source": [
    "# Test splitting"
   ]
  },
  {
   "cell_type": "code",
   "execution_count": null,
   "metadata": {
    "colab": {},
    "colab_type": "code",
    "id": "z_9N7Xt-jZU8"
   },
   "outputs": [],
   "source": [
    "SPLIT_TEST_INDEX = -1\n",
    "#SPLIT_TEST_INDEX = 11849\n",
    "\n",
    "if SPLIT_TEST_INDEX != -1:\n",
    "    # test split\n",
    "    i = df[df['ID'] == 11849].index.values[0]\n",
    "    #i = df[df['ID'] == 12954].index.values[0]\n",
    "    dup = pd.DataFrame(df.loc[i]).T\n",
    "    #dup = pd.DataFrame(df[df['ID'] == 11849]).T\n",
    "    print(dup[summary])\n",
    "    print()\n",
    "    dup.index.values[0]\n",
    "    split_3(dup)[summary]"
   ]
  },
  {
   "cell_type": "markdown",
   "metadata": {
    "colab_type": "text",
    "id": "iiYX4SthjZVI"
   },
   "source": [
    "# Add flag columns to indicate particular situations"
   ]
  },
  {
   "cell_type": "code",
   "execution_count": null,
   "metadata": {
    "colab": {},
    "colab_type": "code",
    "id": "1Re0rrsDjZVK"
   },
   "outputs": [],
   "source": [
    "# add columns that help to find particular situations\n",
    "df['tmp_needs_split_2'] = df.apply(needs_split_2, axis=1)\n",
    "df['tmp_needs_split_3'] = df.apply(needs_split_3, axis=1)\n",
    "df['tmp_is_night_1'] = df.apply(is_night_1, axis=1)\n",
    "df['tmp_is_night_2'] = df.apply(is_night_2, axis=1)\n",
    "df['tmp_night_discount_applies'] = df.apply(night_discount_applies, axis=1)\n",
    "df['tmp_off_hour_discount_applies'] = df.apply(off_hour_discount_applies, axis=1)\n",
    "df['tmp_includes_holiday_or_weekend'] = df.apply(includes_holiday_or_weekend, axis=1)\n",
    "\n"
   ]
  },
  {
   "cell_type": "markdown",
   "metadata": {
    "colab_type": "text",
    "id": "2O18N2QfjZVS"
   },
   "source": [
    "# Search problematic cases and save results"
   ]
  },
  {
   "cell_type": "code",
   "execution_count": null,
   "metadata": {
    "colab": {
     "base_uri": "https://localhost:8080/",
     "height": 139
    },
    "colab_type": "code",
    "executionInfo": {
     "elapsed": 4302,
     "status": "ok",
     "timestamp": 1586432193240,
     "user": {
      "displayName": "Harri Jäälinoja",
      "photoUrl": "",
      "userId": "10358975484852623681"
     },
     "user_tz": -180
    },
    "id": "h5YfVSAmjZVX",
    "outputId": "b86a39b2-b38d-41d7-cdd9-b1086833d886"
   },
   "outputs": [],
   "source": [
    "def run_tests(tag):\n",
    "    prefix = \"test_\" + basename + \"_\" + tag + \"_\"\n",
    "    # missing a prime/off/night split\n",
    "    test = df[df['tmp_needs_split_3']][summary]\n",
    "    save_test_result(prefix + '_needs_split_3.xlsx', test)\n",
    "\n",
    "    # missing a prime/off split\n",
    "    test = df[df['tmp_needs_split_2']][summary]\n",
    "    save_test_result(prefix + '_needs_split_2.xlsx', test)\n",
    "\n",
    "    # booking includes both night discount periods\n",
    "    test = df[df['tmp_is_night_1'] & df['tmp_is_night_2']][summary]\n",
    "    save_test_result(prefix + '_night1_and_night2.xlsx', test)\n",
    "\n",
    "    # both night discounts and a missing split\n",
    "    test = df[df['tmp_is_night_1'] & df['tmp_is_night_2'] & df['tmp_needs_split_3']][summary]\n",
    "    save_test_result(prefix + '_night1_and_night2_needs_split3.xlsx', test)\n",
    "\n",
    "    # find regular price bookings during holidays\n",
    "    test = df[df['tmp_includes_holiday_or_weekend'] & df['Price item'].str.startswith('Regular usage') & df['tmp_off_hour_discount_applies']][summary]\n",
    "    save_test_result(prefix + '_regular_price_during_holidays.xlsx', test)\n",
    "\n",
    "\n",
    "run_tests(\"_before_fixes\")"
   ]
  },
  {
   "cell_type": "markdown",
   "metadata": {
    "colab_type": "text",
    "id": "8Yd5fxZsjZVj"
   },
   "source": [
    "## Split bookings"
   ]
  },
  {
   "cell_type": "code",
   "execution_count": null,
   "metadata": {
    "colab": {},
    "colab_type": "code",
    "id": "Z3vj6EWsjZVn"
   },
   "outputs": [],
   "source": [
    "# bookings with missing splits\n",
    "index = df[df['tmp_needs_split_3']].index\n",
    "#print(index)\n",
    "\n",
    "df['tmp_remove_split_line'] = False\n",
    "\n",
    "# dataframe for split bookings\n",
    "splits = pd.DataFrame()\n",
    "for i in index:\n",
    "    #print(i)\n",
    "\n",
    "    y1 = df.loc[i]['Booking start'].year\n",
    "    m1 = df.loc[i]['Booking start'].month\n",
    "    d1 = df.loc[i]['Booking start'].day\n",
    "\n",
    "    #print(df.loc[i]['ID']) \n",
    "    # create a new DataFrame from the line to be split\n",
    "    dup = pd.DataFrame(df.loc[i]).T\n",
    "    \n",
    "    # split the line\n",
    "    split = split_3(dup)\n",
    "    #print(split[summary])\n",
    "    #print(split.shape)\n",
    "    \n",
    "    # mark original line for removal\n",
    "    df.at[i,'tmp_remove_split_line'] = True\n",
    "    \n",
    "    # append the split line to the dataframe with all splits \n",
    "    splits = splits.append(split, ignore_index=True)\n",
    "    \n",
    "# append all splits to the original dataframe\n",
    "df = df.append(splits, ignore_index=True)\n",
    "\n",
    "# save splits including the original line \n",
    "df[df['tmp_needs_split_3'] == True] \\\n",
    "    .sort_values(['ID','Booking start','Quantity'], ascending=[True, True, False])[summary] \\\n",
    "    .to_excel(INVOICE_DIR / (\"tmp_\" + basename + \"__fix1_split\" + ext), index=True) \n",
    "\n",
    "# remove original line and save dataframe\n",
    "df = df[df['tmp_remove_split_line'] == False]\n",
    "df[summary].to_excel(INVOICE_DIR / (\"tmp_\" + basename + \"__fix1_split_originals_removed\" + ext), index=True) \n"
   ]
  },
  {
   "cell_type": "markdown",
   "metadata": {
    "colab_type": "text",
    "id": "OQHTCgO8jZVy"
   },
   "source": [
    "## Fix holidays"
   ]
  },
  {
   "cell_type": "code",
   "execution_count": null,
   "metadata": {
    "colab": {},
    "colab_type": "code",
    "id": "OLSw3FFFjZV0"
   },
   "outputs": [],
   "source": [
    "# fix holidays\n",
    "idx = df[df['tmp_includes_holiday_or_weekend'] & df['Price item'].str.startswith('Regular usage') & df['tmp_off_hour_discount_applies']].index\n",
    "for i in idx:\n",
    "    #print(df.loc[i]['ID']) \n",
    "    # by eyeballing the list it seems there is no need for splitting, so it's enough to edit the price\n",
    "    df.at[i,'Price item'] = 'Off-hours holiday fix'\n",
    "    #print(df.loc[i][summary].T)\n",
    "    #print(prices[prices['Instrument'] == df.loc[i]['Resource']])\n",
    "    #print(prices[prices['Instrument'] == df.loc[i]['Resource']]['Off-hours'])\n",
    "    df.at[i,'Price'] = prices[(prices['Instrument'] == df.loc[i]['Resource']) & \\\n",
    "                              (prices[PRICE_TYPE] == df.loc[i][PRICE_TYPE])][OFF_HOURS].values[0]\n",
    "    df.at[i,'Charge'] = df.at[i,'Quantity'] * df.at[i,'Price'] * df.loc[i]['tmp_discount_factor']\n",
    "    \n",
    "df.loc[idx][summary].to_excel(INVOICE_DIR / (\"tmp_\" + basename + \"__fix2_holidays\" + ext), index=True) \n"
   ]
  },
  {
   "cell_type": "markdown",
   "metadata": {
    "colab_type": "text",
    "id": "z_xIv6zmjZWB"
   },
   "source": [
    "## Fix night time discounts"
   ]
  },
  {
   "cell_type": "code",
   "execution_count": null,
   "metadata": {
    "colab": {
     "base_uri": "https://localhost:8080/",
     "height": 86
    },
    "colab_type": "code",
    "executionInfo": {
     "elapsed": 6439,
     "status": "ok",
     "timestamp": 1586432195390,
     "user": {
      "displayName": "Harri Jäälinoja",
      "photoUrl": "",
      "userId": "10358975484852623681"
     },
     "user_tz": -180
    },
    "id": "uGdWjFZpjZWE",
    "outputId": "05a54ba0-ffa9-429d-d010-47935188be75"
   },
   "outputs": [],
   "source": [
    "# fix night time reservations that didn't need a split but include both discounts\n",
    "idx = df[df['tmp_is_night_1'] & df['tmp_is_night_2'] & ~df['tmp_needs_split_3']][summary].index\n",
    "for i in idx:\n",
    "    # if booking starts after 22, it's enough to fix price\n",
    "    if(df.loc[i]['Booking start'].hour >= 22):\n",
    "        print(\"fix price and charge for \" + str(df.loc[i]['ID']))\n",
    "        df.at[i,'Price item'] = 'Night price fix'\n",
    "        df.at[i,'Price'] = prices[(prices['Instrument'] == df.loc[i]['Resource']) & \\\n",
    "                                  (prices[PRICE_TYPE] == df.loc[i][PRICE_TYPE])][NIGHT_TIME].values[0]\n",
    "        df.at[i,'Charge'] = df.at[i,'Quantity'] * df.at[i,'Price'] * df.loc[i]['tmp_discount_factor']\n",
    "    else:\n",
    "        print(\"do nothing, this should have been split \" + str(df.loc[i]['ID']))\n",
    "        \n",
    "df.loc[idx][summary].to_excel(INVOICE_DIR / (\"tmp_\" + basename + \"__fix3_nights_1_and_2\" + ext), index=True) \n"
   ]
  },
  {
   "cell_type": "code",
   "execution_count": null,
   "metadata": {
    "colab": {
     "base_uri": "https://localhost:8080/",
     "height": 104
    },
    "colab_type": "code",
    "executionInfo": {
     "elapsed": 6436,
     "status": "ok",
     "timestamp": 1586432195391,
     "user": {
      "displayName": "Harri Jäälinoja",
      "photoUrl": "",
      "userId": "10358975484852623681"
     },
     "user_tz": -180
    },
    "id": "lWzoEQL2jZWU",
    "outputId": "c5c13a18-d29e-4de8-ecab-e361388fd929"
   },
   "outputs": [],
   "source": [
    "df['tmp_num_issue'] = ~df[\"Price\"].apply(np.isreal)\n",
    "df[df['tmp_num_issue']==True]"
   ]
  },
  {
   "cell_type": "markdown",
   "metadata": {},
   "source": [
    "# Find overlapping bookings "
   ]
  },
  {
   "cell_type": "code",
   "execution_count": null,
   "metadata": {},
   "outputs": [],
   "source": [
    "INTERVAL = 'tmp_booking_interval'\n",
    "OVERLAPS = 'tmp_overlapping_bookings'\n",
    "HAS_OVERLAPS = 'tmp_has_overlapping_bookings'\n",
    "\n",
    "df[OVERLAPS] = ''\n",
    "df[HAS_OVERLAPS] = False\n",
    "\n",
    "def booking_interval(row):\n",
    "    return pd.Interval(left=row['Booking start'], right=row['Booking end'])\n",
    "\n",
    "def overlaps_another_booking(row, testrow):\n",
    "    overlaps = row[OVERLAPS]\n",
    "    if (row['Resource'] == testrow['Resource']) \\\n",
    "        & (row['ID'] != testrow['ID']) \\\n",
    "        & (row[INTERVAL].overlaps(testrow[INTERVAL])):\n",
    "        overlaps = overlaps + ',' + str(testrow['ID'])    \n",
    "    return overlaps\n",
    "\n",
    "def find_overlaps(ia):\n",
    "    overlaps = []\n",
    "    \n",
    "    tuples = ia.to_tuples()\n",
    "    #print(tuples)\n",
    "    for i in range(1,len(tuples)-1):\n",
    "        if tuples[i][0] < tuples[i-1][1]:\n",
    "            #print(tuples[i-1])\n",
    "            #print(tuples[i])\n",
    "            overlaps.append(pd.Interval(*tuples[i-1]))\n",
    "            overlaps.append(pd.Interval(*tuples[i]))\n",
    "    \n",
    "    return overlaps\n",
    "\n",
    "df[INTERVAL] = df.apply(booking_interval, axis=1)\n",
    "\n",
    "# Sort bookings by resource and booking period. This allows to use IntervalArray.is_non_overlapping_monotonic below.\n",
    "df = df.sort_values(['Resource','Booking start','Booking end'], ascending=[True, True, True])\n",
    "\n",
    "intervals = {}\n",
    "for r in df['Resource'].unique():\n",
    "    dfr = df[df['Resource'] == r]\n",
    "    ia = pd.arrays.IntervalArray(dfr[INTERVAL].values)\n",
    "    intervals[r] = ia\n",
    "    \n",
    "    if not ia.is_non_overlapping_monotonic:\n",
    "        print(r + \" has overlapping bookings\")\n",
    "        \n",
    "        overlaps = find_overlaps(ia)\n",
    "        #print(overlaps)\n",
    "        \n",
    "        idx = dfr[dfr[INTERVAL].isin(overlaps)].index\n",
    "        for i in idx:\n",
    "            df.at[i, HAS_OVERLAPS] = True\n",
    "            #print(i)\n",
    "\n",
    "# save bookings with overlaps\n",
    "df[df[HAS_OVERLAPS] == True][summary].to_excel(INVOICE_DIR / (\"test_\" + basename + \"__overlapping_bookings.xlsx\"), index=True)\n",
    "\n",
    "\n",
    "### work on a copy containing only bookings with overlaps\n",
    "dfo = df[df[HAS_OVERLAPS] == True].copy()\n",
    "\n",
    "# loop over bookings that have overlaps\n",
    "summary.append(OVERLAPS)\n",
    "for i in dfo.index:\n",
    "    c = dfo.loc[i]\n",
    "    #print(c[INTERVAL])\n",
    "    # find the overlapping bookings: this would take a long time to run on the whole dataframe\n",
    "    dfo[OVERLAPS] = dfo.apply(overlaps_another_booking, testrow=c, axis=1)\n",
    "dfo[summary].to_excel(INVOICE_DIR / (\"tmp_\" + basename + \"__dfo.xlsx\"), index=True)\n",
    "\n",
    "\n",
    "### continue on the complete dataframe\n",
    "# copy overlaps to complete dataframe (magically the indexing works)\n",
    "df[OVERLAPS] = dfo[OVERLAPS]\n",
    "df[summary].to_excel(INVOICE_DIR / (\"tmp_\" + basename + \"__dfo2.xlsx\"), index=True)\n",
    "\n",
    "\n",
    "# test only with lauri\n",
    "#df = df[df['User email'].str.contains('lauri')]\n",
    "\n",
    "#for i in df.index:\n",
    "#idx = df[df[HAS_OVERLAPS].index\n",
    "#for i in idx:\n",
    "#    c = df.loc[i]\n",
    "#    print(c[INTERVAL])\n",
    "#    df[OVERLAPS] = df.apply(overlaps_another_booking, testrow=c, axis=1)\n",
    "\n",
    "#summary.append(OVERLAPS)\n",
    "#df[df[OVERLAPS] != ''][summary]\n",
    "#df[df[OVERLAPS] != ''][summary].to_excel(os.path.join(INVOICE_DIR,\"test_\" + basename + \"__overlapping_bookings2.xlsx\"), index=True)\n"
   ]
  },
  {
   "cell_type": "code",
   "execution_count": null,
   "metadata": {},
   "outputs": [],
   "source": [
    "dup"
   ]
  },
  {
   "cell_type": "markdown",
   "metadata": {
    "colab_type": "text",
    "id": "J0r5r8kNjZWc"
   },
   "source": [
    "## Save test files after fixes"
   ]
  },
  {
   "cell_type": "code",
   "execution_count": null,
   "metadata": {
    "colab": {
     "base_uri": "https://localhost:8080/",
     "height": 139
    },
    "colab_type": "code",
    "executionInfo": {
     "elapsed": 6830,
     "status": "ok",
     "timestamp": 1586432195789,
     "user": {
      "displayName": "Harri Jäälinoja",
      "photoUrl": "",
      "userId": "10358975484852623681"
     },
     "user_tz": -180
    },
    "id": "oj0La_AkjZWe",
    "outputId": "49182ac4-369b-40e3-afd8-02258463fb7d"
   },
   "outputs": [],
   "source": [
    "df['tmp_needs_split_3'] = df.apply(needs_split_3, axis=1)\n",
    "\n",
    "summary.append('tmp_discount_factor')\n",
    "run_tests(\"_after_fixes\")"
   ]
  },
  {
   "cell_type": "markdown",
   "metadata": {
    "colab_type": "text",
    "id": "8grw4NSHjZWz"
   },
   "source": [
    "## Check total after fixes"
   ]
  },
  {
   "cell_type": "code",
   "execution_count": null,
   "metadata": {
    "colab": {
     "base_uri": "https://localhost:8080/",
     "height": 86
    },
    "colab_type": "code",
    "executionInfo": {
     "elapsed": 8870,
     "status": "ok",
     "timestamp": 1586432197838,
     "user": {
      "displayName": "Harri Jäälinoja",
      "photoUrl": "",
      "userId": "10358975484852623681"
     },
     "user_tz": -180
    },
    "id": "wIEDt9eTjZW1",
    "outputId": "890fddf1-2874-45d9-cec4-9df2c37be806",
    "scrolled": true
   },
   "outputs": [],
   "source": [
    "totals_wbs = check_totals(df,'after_fixes')"
   ]
  },
  {
   "cell_type": "markdown",
   "metadata": {
    "colab_type": "text",
    "id": "3EP3TIixjZWq"
   },
   "source": [
    "## Save results"
   ]
  },
  {
   "cell_type": "code",
   "execution_count": null,
   "metadata": {
    "colab": {},
    "colab_type": "code",
    "id": "TzUD20rEjZWs"
   },
   "outputs": [],
   "source": [
    "# remove tmp_ columns\n",
    "df = df[df.columns.drop(list(df.filter(regex='tmp_')))]\n",
    "\n",
    "# sort by original ID\n",
    "df = df.sort_values(['ID','Booking start','Quantity'], ascending=[True, True, False])\n",
    "\n",
    "# save full fixed version\n",
    "df.to_excel(INVOICE_DIR / (basename + \"_fixed\" + ext), index=False)\n",
    "\n",
    "# fix header total\n",
    "header['Total'] = str(totals_wbs) + \" EUR\"\n",
    "\n",
    "# save header and data as .csv\n",
    "header.to_csv(INVOICE_DIR / (basename + \"_fixed_header.csv\"), index=False)\n",
    "df.to_csv(INVOICE_DIR / (basename + \"_fixed_header.csv\"), mode='a', index=False)\n"
   ]
  },
  {
   "cell_type": "code",
   "execution_count": null,
   "metadata": {},
   "outputs": [],
   "source": [
    "header\n"
   ]
  },
  {
   "cell_type": "code",
   "execution_count": null,
   "metadata": {},
   "outputs": [],
   "source": []
  }
 ],
 "metadata": {
  "colab": {
   "collapsed_sections": [],
   "name": "billing_checks_and_fixes.ipynb",
   "provenance": []
  },
  "kernelspec": {
   "display_name": "Python 3",
   "language": "python",
   "name": "python3"
  },
  "language_info": {
   "codemirror_mode": {
    "name": "ipython",
    "version": 3
   },
   "file_extension": ".py",
   "mimetype": "text/x-python",
   "name": "python",
   "nbconvert_exporter": "python",
   "pygments_lexer": "ipython3",
   "version": "3.7.6"
  }
 },
 "nbformat": 4,
 "nbformat_minor": 1
}
