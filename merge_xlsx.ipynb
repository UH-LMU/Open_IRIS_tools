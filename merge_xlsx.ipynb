{
 "cells": [
  {
   "cell_type": "markdown",
   "metadata": {},
   "source": [
    "# README 1st\n",
    "This notebook should be run cell by cell. The first cell reads the input files. The following cells implement different ways of combining the inputs, and you have to run the appropriate cell depending on what you want to do.\n",
    "\n",
    "# Input"
   ]
  },
  {
   "cell_type": "code",
   "execution_count": null,
   "metadata": {},
   "outputs": [],
   "source": [
    "INVOICE_DIR = '/work/data/OpenIRIS/LMU-20200427'\n",
    "INVOICE_FILE = 'Invoice24.xlsx' \n",
    "FIXES_FILE = 'fixed_Invoice24__price_type_missing.xlsx'\n",
    "\n",
    "INVOICE_DIR = '/work/data/OpenIRIS/BIU-20200430' \n",
    "INVOICE_FILE = 'Invoice16.xlsx' \n",
    "FIXES_FILE = 'fixed_Invoice16__overlapping_bookings.xlsx' \n",
    "#FIXES_FILE = 'fixed_Invoice16__group_or_wbs_missing.xlsx'\n",
    "\n",
    "from datetime import datetime\n",
    "import pandas as pd\n",
    "from pathlib import Path\n",
    "\n",
    "INVOICE_DIR = Path(INVOICE_DIR)\n",
    "if not INVOICE_DIR.is_dir():\n",
    "    raise ValueError('Please check INVOICE_DIR.')\n",
    "INVOICE_FILE = INVOICE_DIR / INVOICE_FILE\n",
    "if not INVOICE_FILE.exists():\n",
    "    raise ValueError('Please check INVOICE_FILE.')\n",
    "FIXES_FILE = INVOICE_DIR / FIXES_FILE\n",
    "if not FIXES_FILE.exists():\n",
    "    raise ValueError('Please check FIXES_FILE.')\n",
    "\n",
    "# read first two rows of input\n",
    "header = pd.read_excel(INVOICE_FILE, nrows=1)\n",
    "\n",
    "# check if the first two rows are the invoice summary from IRIS\n",
    "if 'Created by' in header.columns:\n",
    "    print('input file has IRIS summary, skip it')\n",
    "    df = pd.read_excel(INVOICE_FILE, skiprows=[0,1])\n",
    "else:\n",
    "    print('no IRIS summary, read entire file')\n",
    "    df = pd.read_excel(INVOICE_FILE)\n",
    "\n",
    "# backup original\n",
    "timestamp = str(datetime.now().strftime(\"%Y%m%d-%H%M%S\"))\n",
    "print(timestamp)\n",
    "df.to_excel(INVOICE_DIR / (INVOICE_FILE.stem + '__' + timestamp + '.xlsx'), index=False)\n",
    "\n",
    "df2 = pd.read_excel(FIXES_FILE)\n",
    "\n",
    "# use the original index in column 'Unnamed: 0'\n",
    "df2.set_index('Unnamed: 0', inplace=True)\n",
    "df2.head(3)\n"
   ]
  },
  {
   "cell_type": "markdown",
   "metadata": {},
   "source": [
    "# Modifications only (no added rows)"
   ]
  },
  {
   "cell_type": "code",
   "execution_count": null,
   "metadata": {},
   "outputs": [],
   "source": [
    "# https://pandas.pydata.org/pandas-docs/stable/reference/api/pandas.DataFrame.update.html?highlight=update#pandas.DataFrame.update\n",
    "df3 = df.copy()\n",
    "df3.update(df2)\n",
    "\n",
    "# save the modifications\n",
    "OUTPUT = INVOICE_DIR / (INVOICE_FILE.stem + \"__update__\" + FIXES_FILE.stem + INVOICE_FILE.suffix)\n",
    "df3.to_excel(OUTPUT,index=False)\n",
    "print(OUTPUT)\n",
    "\n",
    "# overwrite original\n",
    "df3.to_excel(INVOICE_FILE,index=False)\n"
   ]
  },
  {
   "cell_type": "markdown",
   "metadata": {},
   "source": [
    "# Append split bookings\n",
    "- df2 contains rows where parts of split bookings have the original IRIS charge ID.\n",
    "- Rows that are not split will be ignored.\n",
    "- df2 may contain fewer columns than df1. Missing columns will be read from df1.\n"
   ]
  },
  {
   "cell_type": "code",
   "execution_count": null,
   "metadata": {},
   "outputs": [],
   "source": [
    "df3 = df.copy()\n",
    "\n",
    "# find rows in df2 with repeated ID\n",
    "ids = df2[\"ID\"]\n",
    "splits = df2[ids.isin(ids[ids.duplicated()])].copy().reset_index()\n",
    "# read these columns as datetime\n",
    "splits['Booking start'] =  pd.to_datetime(splits['Booking start'], format='%Y-%m-%d %H:%M')\n",
    "splits['Booking end'] =  pd.to_datetime(splits['Booking end'], format='%Y-%m-%d %H:%M')\n",
    "\n",
    "\n",
    "split_IDs = splits[\"ID\"].values\n",
    "print(\"IDs of split lines:\")\n",
    "print(split_IDs)\n",
    "print()\n",
    "\n",
    "imap = {}\n",
    "for s in split_IDs:\n",
    "    imap[s] = int(df3[df3['ID'] == s].index[0])\n",
    "print(\"mapping from split line ID to index in original data (df):\")\n",
    "print(imap)\n",
    "print()\n",
    "\n",
    "#df[df['ID'].isin(split_IDs)].sort_values(\"ID\")\n",
    "#df.loc[imap.values()].sort_values(\"ID\")\n",
    "\n",
    "idx = []\n",
    "for s in split_IDs:\n",
    "    idx.append(imap[s])\n",
    "print(\"index in original data corresponding to splits (with repeats):\")\n",
    "print(idx)\n",
    "print()\n",
    "\n",
    "# all columns of split rows from original data\n",
    "splitbase = df3.loc[idx].copy().reset_index()\n",
    "print(\"splits (rows, cols):\")\n",
    "print(splits.shape)\n",
    "print(\"splitbase (rows, cols):\")\n",
    "print(splitbase.shape)\n",
    "print()\n",
    "\n",
    "# if there are columns in df2 that are not present in df, add them (e.g. tmp_rebooked)\n",
    "for c in df2.columns.values:\n",
    "    if c.startswith('tmp_') and c not in df3.columns.values:\n",
    "        print('adding column ' + c)\n",
    "        splitbase[c] = None\n",
    "\n",
    "# overwrite original with split data\n",
    "splitbase.update(splits)\n",
    "\n",
    "# remove unsplit lines from original\n",
    "df3 = df3[~df3['ID'].isin(split_IDs)]\n",
    "\n",
    "# append all splits to the original dataframe\n",
    "df3 = df3.append(splitbase, ignore_index=True)\n",
    "\n",
    "\n",
    "\n",
    "# save the modifications\n",
    "OUTPUT = INVOICE_DIR / (INVOICE_FILE.stem + \"__append_splits__\" + FIXES_FILE.stem + INVOICE_FILE.suffix)\n",
    "df3.to_excel(OUTPUT,index=False)\n",
    "print(OUTPUT)\n",
    "\n",
    "# overwrite original\n",
    "df3.to_excel(INVOICE_FILE,index=False)\n",
    "\n"
   ]
  },
  {
   "cell_type": "code",
   "execution_count": null,
   "metadata": {},
   "outputs": [],
   "source": [
    "splitbase\n",
    "\n"
   ]
  },
  {
   "cell_type": "code",
   "execution_count": null,
   "metadata": {},
   "outputs": [],
   "source": [
    "splits"
   ]
  },
  {
   "cell_type": "code",
   "execution_count": null,
   "metadata": {},
   "outputs": [],
   "source": []
  }
 ],
 "metadata": {
  "kernelspec": {
   "display_name": "Python 3",
   "language": "python",
   "name": "python3"
  },
  "language_info": {
   "codemirror_mode": {
    "name": "ipython",
    "version": 3
   },
   "file_extension": ".py",
   "mimetype": "text/x-python",
   "name": "python",
   "nbconvert_exporter": "python",
   "pygments_lexer": "ipython3",
   "version": "3.7.6"
  }
 },
 "nbformat": 4,
 "nbformat_minor": 4
}
