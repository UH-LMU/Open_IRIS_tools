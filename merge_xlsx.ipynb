{
 "cells": [
  {
   "cell_type": "markdown",
   "metadata": {},
   "source": [
    "# Input"
   ]
  },
  {
   "cell_type": "code",
   "execution_count": null,
   "metadata": {},
   "outputs": [],
   "source": [
    "INVOICE_DIR = '/work/data/OpenIRIS/LMU-20200427' #@param {type:\"raw\"}\n",
    "INVOICE_FILE = 'Invoice24.xlsx' #@param {type:\"raw\"}\n",
    "FIXES_FILE = 'fixed_Invoice24__price_type_missing.xlsx' #@param {type:\"raw\"}\n",
    "\n",
    "from datetime import datetime\n",
    "import pandas as pd\n",
    "from pathlib import Path\n",
    "\n",
    "INVOICE_DIR = Path(INVOICE_DIR)\n",
    "if not INVOICE_DIR.is_dir():\n",
    "    raise ValueError('Please check INVOICE_DIR.')\n",
    "INVOICE_FILE = INVOICE_DIR / INVOICE_FILE\n",
    "if not INVOICE_FILE.exists():\n",
    "    raise ValueError('Please check INVOICE_FILE.')\n",
    "FIXES_FILE = INVOICE_DIR / FIXES_FILE\n",
    "if not FIXES_FILE.exists():\n",
    "    raise ValueError('Please check FIXES_FILE.')\n",
    "\n",
    "# read first two rows of input\n",
    "header = pd.read_excel(INVOICE_FILE, nrows=1)\n",
    "\n",
    "# check if the first two rows are the invoice summary from IRIS\n",
    "if 'Created by' in header.columns:\n",
    "    print('input file has IRIS summary, skip it')\n",
    "    df = pd.read_excel(INVOICE_FILE, skiprows=[0,1])\n",
    "else:\n",
    "    print('no IRIS summary, read entire file')\n",
    "    df = pd.read_excel(INVOICE_FILE)\n",
    "\n",
    "# backup original\n",
    "timestamp = str(datetime.now().strftime(\"%Y%m%d-%H%M%S\"))\n",
    "print(timestamp)\n",
    "df.to_excel(INVOICE_DIR / (INVOICE_FILE.stem + '__' + timestamp + '.xlsx'), index=False)\n",
    "\n",
    "df2 = pd.read_excel(FIXES_FILE)\n",
    "\n",
    "# use the original index in column 'Unnamed: 0'\n",
    "df2.set_index('Unnamed: 0', inplace=True)\n",
    "df2.head(3)\n"
   ]
  },
  {
   "cell_type": "markdown",
   "metadata": {},
   "source": [
    "# Modifications only (no added rows)"
   ]
  },
  {
   "cell_type": "code",
   "execution_count": null,
   "metadata": {},
   "outputs": [],
   "source": [
    "# https://pandas.pydata.org/pandas-docs/stable/reference/api/pandas.DataFrame.update.html?highlight=update#pandas.DataFrame.update\n",
    "df3 = df.copy()\n",
    "df3.update(df2)\n",
    "\n",
    "# save the modifications\n",
    "OUTPUT = INVOICE_DIR / (INVOICE_FILE.stem + \"__update__\" + FIXES_FILE.stem + INVOICE_FILE.suffix)\n",
    "df3.to_excel(OUTPUT,index=False)\n",
    "print(OUTPUT)\n",
    "\n",
    "# overwrite original\n",
    "df3.to_excel(INVOICE_FILE,index=False)\n"
   ]
  },
  {
   "cell_type": "code",
   "execution_count": null,
   "metadata": {},
   "outputs": [],
   "source": []
  }
 ],
 "metadata": {
  "kernelspec": {
   "display_name": "Python 3",
   "language": "python",
   "name": "python3"
  },
  "language_info": {
   "codemirror_mode": {
    "name": "ipython",
    "version": 3
   },
   "file_extension": ".py",
   "mimetype": "text/x-python",
   "name": "python",
   "nbconvert_exporter": "python",
   "pygments_lexer": "ipython3",
   "version": "3.7.6"
  }
 },
 "nbformat": 4,
 "nbformat_minor": 4
}
